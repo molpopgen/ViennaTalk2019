{
 "cells": [
  {
   "cell_type": "markdown",
   "metadata": {
    "slideshow": {
     "slide_type": "slide"
    }
   },
   "source": [
    "# Hitch-hiking and polygenic adaptation\n",
    "\n",
    "Kevin Thornton\n",
    "\n",
    "Ecology and Evolutionary Biology\n",
    "\n",
    "University of California, Irvine"
   ]
  },
  {
   "cell_type": "markdown",
   "metadata": {
    "slideshow": {
     "slide_type": "slide"
    }
   },
   "source": [
    "# Linked selection vs fate of selected mutations\n",
    "\n",
    "\n",
    "Hudson & Kaplan, 1995 | De Vladar & Barton, 2014\n",
    ":------:|:----------:\n",
    "<img src=\"HK1995Fig1.png\" width=\"500\">|<img src=\"DvB2014Fig1.png\" width=\"500\">"
   ]
  },
  {
   "cell_type": "code",
   "execution_count": 1,
   "metadata": {
    "slideshow": {
     "slide_type": "skip"
    }
   },
   "outputs": [],
   "source": [
    "# \"Fake\" sweep-like tree by simulating rapid growth\n",
    "import msprime\n",
    "import numpy as np\n",
    "from IPython.display import SVG\n",
    "ts = msprime.simulate(5, random_seed=666)\n",
    "t = next(ts.trees())\n",
    "nl = {i:\"{:0.2f}\".format(ts.tables.nodes.time[i]) for i in range(len(ts.tables.nodes))}\n",
    "for key, value in nl.items():\n",
    "    if key < 5:\n",
    "        nl[key]='0'\n",
    "tree1_svg=t.draw(path=\"tree1.svg\",format='svg',\n",
    "                 #height=100,width=100,\n",
    "                 node_labels=nl)\n",
    "ts = msprime.simulate(population_configurations=[msprime.PopulationConfiguration(sample_size=5,growth_rate=10)],\n",
    "                      random_seed=42*666)\n",
    "# Cheat here even more: divide times by 50 to look more realistic\n",
    "nl = {i:\"{:0.3f}\".format(ts.tables.nodes.time[i]/50.) for i in range(len(ts.tables.nodes))}\n",
    "for key, value in nl.items():\n",
    "    if key < 5:\n",
    "        nl[key]='0'\n",
    "t = next(ts.trees())\n",
    "tree2_svg=t.draw(path=\"tree2.svg\",\n",
    "                 #height=100,width=100,\n",
    "                 format='svg',node_labels=nl)"
   ]
  },
  {
   "cell_type": "markdown",
   "metadata": {
    "slideshow": {
     "slide_type": "slide"
    }
   },
   "source": [
    "# Tree structures\n",
    "\n",
    "Neutral | Recent hard sweep\n",
    ":------:|:----------:\n",
    "![Image](tree1.svg)|![Image2](tree2.svg)\n"
   ]
  },
  {
   "cell_type": "code",
   "execution_count": 2,
   "metadata": {
    "slideshow": {
     "slide_type": "skip"
    }
   },
   "outputs": [
    {
     "name": "stderr",
     "output_type": "stream",
     "text": [
      "/usr/lib/python3/dist-packages/scipy/stats/stats.py:1713: FutureWarning: Using a non-tuple sequence for multidimensional indexing is deprecated; use `arr[tuple(seq)]` instead of `arr[seq]`. In the future this will be interpreted as an array index, `arr[np.array(seq)]`, which will result either in an error or a different result.\n",
      "  return np.add.reduce(sorted[indexer] * weights, axis=axis) / sumval\n"
     ]
    }
   ],
   "source": [
    "%matplotlib agg\n",
    "# Get distributions of D for neutral and for growth,\n",
    "# which we're using to fake what hard sweeps look like\n",
    "import libsequence.variant_matrix as vm\n",
    "import libsequence.summstats as sstats\n",
    "import matplotlib.pyplot as plt\n",
    "import seaborn as sns\n",
    "Dneutral=[]\n",
    "for ts in msprime.simulate(50, mutation_rate=100.,num_replicates=1000, random_seed=666):\n",
    "    m = vm.VariantMatrix.from_TreeSequence(ts)\n",
    "    ac = m.count_alleles()\n",
    "    Dneutral.append(sstats.tajd(ac))\n",
    "Dgrowth=[]\n",
    "for ts in msprime.simulate(population_configurations=[msprime.PopulationConfiguration(sample_size=50,growth_rate=5)],\n",
    "                           mutation_rate=100.,\n",
    "                           num_replicates=1000, random_seed=351212):\n",
    "    m = vm.VariantMatrix.from_TreeSequence(ts)\n",
    "    ac = m.count_alleles()\n",
    "    Dgrowth.append(sstats.tajd(ac))\n",
    "    \n",
    "f, ax = plt.subplots(1,2,\n",
    "                     figsize=(6,4),\n",
    "                     sharey=True,sharex=True)\n",
    "sns.distplot(Dneutral,ax=ax[0],norm_hist=False,kde=False)\n",
    "sns.distplot(Dgrowth,ax=ax[1],norm_hist=False,kde=False)\n",
    "ax[0].set_ylabel(\"Count\")\n",
    "ax[0].set_xlabel(\"Tajima's D\")\n",
    "ax[1].set_xlabel(\"Tajima's D\")\n",
    "ax[0].set_title(\"Neutral\")\n",
    "ax[1].set_title(\"Recent hard sweep\")\n",
    "plt.savefig(\"tajd.png\", dpi=300)"
   ]
  },
  {
   "cell_type": "markdown",
   "metadata": {
    "slideshow": {
     "slide_type": "slide"
    }
   },
   "source": [
    "# Detecting selection from genotype data\n",
    "\n",
    "<img src=\"tajd.png\" width=\"600\">"
   ]
  },
  {
   "cell_type": "markdown",
   "metadata": {
    "slideshow": {
     "slide_type": "slide"
    }
   },
   "source": [
    "# Model overview\n",
    "\n",
    "\n",
    "<img src=\"Model.png\" width=\"600\">\n"
   ]
  },
  {
   "cell_type": "markdown",
   "metadata": {
    "slideshow": {
     "slide_type": "slide"
    }
   },
   "source": [
    "# A locus and model parameters\n",
    "<img src=\"LocusLayout.png\" width=\"400\">\n",
    "\n",
    "* $N = 5,000$ diploids\n",
    "* $\\theta = \\rho = 1,000$\n",
    "* $\\mu \\in 2.5\\times 10^{-4}, 10^{-3}, 5\\times 10^{-3}$\n",
    "* $\\Theta = 5, 20, or 100$, which lets us have $\\theta$ and $\\Theta$ floating around 😜\n",
    "* Mutational effects are $~N(0,\\sigma_\\mu)$.\n"
   ]
  },
  {
   "cell_type": "code",
   "execution_count": null,
   "metadata": {},
   "outputs": [],
   "source": []
  }
 ],
 "metadata": {
  "kernelspec": {
   "display_name": "Python 3",
   "language": "python",
   "name": "python3"
  },
  "language_info": {
   "codemirror_mode": {
    "name": "ipython",
    "version": 3
   },
   "file_extension": ".py",
   "mimetype": "text/x-python",
   "name": "python",
   "nbconvert_exporter": "python",
   "pygments_lexer": "ipython3",
   "version": "3.6.7"
  }
 },
 "nbformat": 4,
 "nbformat_minor": 2
}
